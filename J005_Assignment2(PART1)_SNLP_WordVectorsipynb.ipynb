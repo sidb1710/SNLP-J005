{
  "nbformat": 4,
  "nbformat_minor": 0,
  "metadata": {
    "colab": {
      "provenance": []
    },
    "kernelspec": {
      "name": "python3",
      "display_name": "Python 3"
    },
    "language_info": {
      "name": "python"
    }
  },
  "cells": [
    {
      "cell_type": "code",
      "source": [
        "!pip install gensim\n",
        "\n"
      ],
      "metadata": {
        "colab": {
          "base_uri": "https://localhost:8080/"
        },
        "id": "HOeeJspogqjL",
        "outputId": "46c7ddcc-3353-4c9f-d389-9e80256b4614"
      },
      "execution_count": 3,
      "outputs": [
        {
          "output_type": "stream",
          "name": "stdout",
          "text": [
            "Requirement already satisfied: gensim in /usr/local/lib/python3.10/dist-packages (4.3.3)\n",
            "Requirement already satisfied: numpy<2.0,>=1.18.5 in /usr/local/lib/python3.10/dist-packages (from gensim) (1.25.2)\n",
            "Requirement already satisfied: scipy<1.14.0,>=1.7.0 in /usr/local/lib/python3.10/dist-packages (from gensim) (1.13.1)\n",
            "Requirement already satisfied: smart-open>=1.8.1 in /usr/local/lib/python3.10/dist-packages (from gensim) (7.0.4)\n",
            "Requirement already satisfied: wrapt in /usr/local/lib/python3.10/dist-packages (from smart-open>=1.8.1->gensim) (1.14.1)\n"
          ]
        }
      ]
    },
    {
      "cell_type": "code",
      "source": [
        "import gensim.downloader as api\n",
        "\n",
        "# Load the pretrained GloVe model\n",
        "model = api.load(\"glove-wiki-gigaword-50\")\n",
        "\n",
        "# Choose words\n",
        "words = ['computer', 'car', 'house', 'river', 'happiness']\n",
        "\n",
        "# Find similar words\n",
        "similar_words = {word: model.most_similar(word, topn=5) for word in words}\n",
        "print(\"Similar Words:\", similar_words)\n",
        "\n",
        "# Test analogies\n",
        "analogies = {\n",
        "    'king - man + woman': model.most_similar(positive=['king', 'woman'], negative=['man'], topn=1),\n",
        "    'city - urban + rural': model.most_similar(positive=['city', 'rural'], negative=['urban'], topn=1),\n",
        "    'happy - joy + sorrow': model.most_similar(positive=['happy', 'sorrow'], negative=['joy'], topn=1)\n",
        "}\n",
        "print(\"Analogies:\", analogies)\n"
      ],
      "metadata": {
        "colab": {
          "base_uri": "https://localhost:8080/"
        },
        "id": "-Qt-WqO-hfqG",
        "outputId": "e9c69f3e-433d-429b-cd5b-72962dfda27b"
      },
      "execution_count": 6,
      "outputs": [
        {
          "output_type": "stream",
          "name": "stdout",
          "text": [
            "Similar Words: {'computer': [('computers', 0.9165045022964478), ('software', 0.8814992904663086), ('technology', 0.852556049823761), ('electronic', 0.812586784362793), ('internet', 0.8060455322265625)], 'car': [('truck', 0.92085862159729), ('cars', 0.8870189785957336), ('vehicle', 0.8833683729171753), ('driver', 0.8464019298553467), ('driving', 0.8384189009666443)], 'house': [('office', 0.8005717992782593), ('capitol', 0.7593545913696289), ('new', 0.7542180418968201), ('building', 0.7395383715629578), ('senate', 0.7298665046691895)], 'river': [('rivers', 0.8735750317573547), ('creek', 0.828879177570343), ('tributary', 0.821739673614502), ('valley', 0.820757269859314), ('basin', 0.8032661080360413)], 'happiness': [('sake', 0.7691689729690552), ('kindness', 0.7672882676124573), ('joy', 0.7658459544181824), ('passion', 0.7605365514755249), ('enjoyment', 0.7552050948143005)]}\n",
            "Analogies: {'king - man + woman': [('queen', 0.8523604273796082)], 'city - urban + rural': [('town', 0.8317127823829651)], 'happy - joy + sorrow': [('sorry', 0.8066951036453247)]}\n"
          ]
        }
      ]
    },
    {
      "cell_type": "code",
      "source": [],
      "metadata": {
        "id": "eU9wTsnVhgE7"
      },
      "execution_count": null,
      "outputs": []
    }
  ]
}